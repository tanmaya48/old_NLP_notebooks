{
 "cells": [
  {
   "cell_type": "code",
   "execution_count": 1,
   "metadata": {},
   "outputs": [],
   "source": [
    "import pandas as pd"
   ]
  },
  {
   "cell_type": "code",
   "execution_count": 2,
   "metadata": {},
   "outputs": [],
   "source": [
    "df = pd.read_csv('data_formated.csv',index_col=[0])"
   ]
  },
  {
   "cell_type": "code",
   "execution_count": 3,
   "metadata": {},
   "outputs": [
    {
     "data": {
      "text/html": [
       "<div>\n",
       "<style scoped>\n",
       "    .dataframe tbody tr th:only-of-type {\n",
       "        vertical-align: middle;\n",
       "    }\n",
       "\n",
       "    .dataframe tbody tr th {\n",
       "        vertical-align: top;\n",
       "    }\n",
       "\n",
       "    .dataframe thead th {\n",
       "        text-align: right;\n",
       "    }\n",
       "</style>\n",
       "<table border=\"1\" class=\"dataframe\">\n",
       "  <thead>\n",
       "    <tr style=\"text-align: right;\">\n",
       "      <th></th>\n",
       "      <th>Name</th>\n",
       "      <th>About</th>\n",
       "      <th>Category</th>\n",
       "    </tr>\n",
       "  </thead>\n",
       "  <tbody>\n",
       "    <tr>\n",
       "      <th>0</th>\n",
       "      <td>cat</td>\n",
       "      <td>cat felis catus domestic species small carnivo...</td>\n",
       "      <td>animal</td>\n",
       "    </tr>\n",
       "    <tr>\n",
       "      <th>1</th>\n",
       "      <td>dog</td>\n",
       "      <td>canis familiaris linnaeus aegyptius linnaeus a...</td>\n",
       "      <td>animal</td>\n",
       "    </tr>\n",
       "    <tr>\n",
       "      <th>2</th>\n",
       "      <td>tiger</td>\n",
       "      <td>tiger panthera tigris largest extant cat speci...</td>\n",
       "      <td>animal</td>\n",
       "    </tr>\n",
       "    <tr>\n",
       "      <th>3</th>\n",
       "      <td>wolf</td>\n",
       "      <td>see subspecies canis lupus wolf canis lupus al...</td>\n",
       "      <td>animal</td>\n",
       "    </tr>\n",
       "    <tr>\n",
       "      <th>4</th>\n",
       "      <td>shark</td>\n",
       "      <td>carcharhiniformes heterodontiformes hexanchifo...</td>\n",
       "      <td>animal</td>\n",
       "    </tr>\n",
       "    <tr>\n",
       "      <th>...</th>\n",
       "      <td>...</td>\n",
       "      <td>...</td>\n",
       "      <td>...</td>\n",
       "    </tr>\n",
       "    <tr>\n",
       "      <th>148</th>\n",
       "      <td>coconut</td>\n",
       "      <td>coconut tree cocos nucifera member palm tree f...</td>\n",
       "      <td>food</td>\n",
       "    </tr>\n",
       "    <tr>\n",
       "      <th>149</th>\n",
       "      <td>lemon</td>\n",
       "      <td>lemon citrus limon species small evergreen tre...</td>\n",
       "      <td>food</td>\n",
       "    </tr>\n",
       "    <tr>\n",
       "      <th>150</th>\n",
       "      <td>lemonade</td>\n",
       "      <td>lemonade sweetened lemon flavored beverage var...</td>\n",
       "      <td>food</td>\n",
       "    </tr>\n",
       "    <tr>\n",
       "      <th>151</th>\n",
       "      <td>tea</td>\n",
       "      <td>tea aromatic beverage commonly prepared pourin...</td>\n",
       "      <td>food</td>\n",
       "    </tr>\n",
       "    <tr>\n",
       "      <th>152</th>\n",
       "      <td>coffee</td>\n",
       "      <td>coffee brewed drink prepared roasted coffee be...</td>\n",
       "      <td>food</td>\n",
       "    </tr>\n",
       "  </tbody>\n",
       "</table>\n",
       "<p>153 rows × 3 columns</p>\n",
       "</div>"
      ],
      "text/plain": [
       "         Name                                              About Category\n",
       "0         cat  cat felis catus domestic species small carnivo...   animal\n",
       "1         dog  canis familiaris linnaeus aegyptius linnaeus a...   animal\n",
       "2       tiger  tiger panthera tigris largest extant cat speci...   animal\n",
       "3        wolf  see subspecies canis lupus wolf canis lupus al...   animal\n",
       "4       shark  carcharhiniformes heterodontiformes hexanchifo...   animal\n",
       "..        ...                                                ...      ...\n",
       "148   coconut  coconut tree cocos nucifera member palm tree f...     food\n",
       "149     lemon  lemon citrus limon species small evergreen tre...     food\n",
       "150  lemonade  lemonade sweetened lemon flavored beverage var...     food\n",
       "151       tea  tea aromatic beverage commonly prepared pourin...     food\n",
       "152    coffee  coffee brewed drink prepared roasted coffee be...     food\n",
       "\n",
       "[153 rows x 3 columns]"
      ]
     },
     "execution_count": 3,
     "metadata": {},
     "output_type": "execute_result"
    }
   ],
   "source": [
    "df"
   ]
  },
  {
   "cell_type": "code",
   "execution_count": 4,
   "metadata": {},
   "outputs": [],
   "source": [
    "topics = df.pop('Name')"
   ]
  },
  {
   "cell_type": "code",
   "execution_count": 5,
   "metadata": {},
   "outputs": [],
   "source": [
    "from sklearn.feature_extraction.text import CountVectorizer\n",
    "\n",
    "vectorizer = CountVectorizer(max_features=200) # change in number of features changes accuracy drastically\n",
    "\n",
    "vectors = vectorizer.fit_transform(df['About'])"
   ]
  },
  {
   "cell_type": "code",
   "execution_count": 6,
   "metadata": {},
   "outputs": [
    {
     "data": {
      "text/plain": [
       "['africa',\n",
       " 'ago',\n",
       " 'al',\n",
       " 'allium',\n",
       " 'also',\n",
       " 'although',\n",
       " 'america',\n",
       " 'among',\n",
       " 'ancient',\n",
       " 'animals',\n",
       " 'arab',\n",
       " 'area',\n",
       " 'areas',\n",
       " 'around',\n",
       " 'asia',\n",
       " 'associated',\n",
       " 'atlantic',\n",
       " 'australia',\n",
       " 'bc',\n",
       " 'became',\n",
       " 'birds',\n",
       " 'black',\n",
       " 'blue',\n",
       " 'british',\n",
       " 'called',\n",
       " 'capital',\n",
       " 'central',\n",
       " 'centuries',\n",
       " 'century',\n",
       " 'china',\n",
       " 'chinese',\n",
       " 'city',\n",
       " 'color',\n",
       " 'colour',\n",
       " 'common',\n",
       " 'commonly',\n",
       " 'considered',\n",
       " 'countries',\n",
       " 'country',\n",
       " 'culture',\n",
       " 'dark',\n",
       " 'derived',\n",
       " 'developed',\n",
       " 'different',\n",
       " 'domesticated',\n",
       " 'due',\n",
       " 'early',\n",
       " 'east',\n",
       " 'eastern',\n",
       " 'economic',\n",
       " 'economy',\n",
       " 'egypt',\n",
       " 'emerged',\n",
       " 'empire',\n",
       " 'english',\n",
       " 'established',\n",
       " 'europe',\n",
       " 'european',\n",
       " 'family',\n",
       " 'females',\n",
       " 'first',\n",
       " 'fish',\n",
       " 'following',\n",
       " 'food',\n",
       " 'form',\n",
       " 'found',\n",
       " 'french',\n",
       " 'ft',\n",
       " 'gdp',\n",
       " 'generally',\n",
       " 'genus',\n",
       " 'german',\n",
       " 'gmelin',\n",
       " 'government',\n",
       " 'great',\n",
       " 'greek',\n",
       " 'green',\n",
       " 'grey',\n",
       " 'group',\n",
       " 'groups',\n",
       " 'grown',\n",
       " 'high',\n",
       " 'however',\n",
       " 'human',\n",
       " 'humans',\n",
       " 'important',\n",
       " 'include',\n",
       " 'including',\n",
       " 'independence',\n",
       " 'india',\n",
       " 'international',\n",
       " 'islands',\n",
       " 'kingdom',\n",
       " 'known',\n",
       " 'land',\n",
       " 'language',\n",
       " 'large',\n",
       " 'larger',\n",
       " 'largest',\n",
       " 'later',\n",
       " 'latin',\n",
       " 'leaves',\n",
       " 'led',\n",
       " 'light',\n",
       " 'like',\n",
       " 'listen',\n",
       " 'live',\n",
       " 'living',\n",
       " 'long',\n",
       " 'made',\n",
       " 'major',\n",
       " 'many',\n",
       " 'may',\n",
       " 'meaning',\n",
       " 'mediterranean',\n",
       " 'member',\n",
       " 'members',\n",
       " 'mi',\n",
       " 'middle',\n",
       " 'military',\n",
       " 'milk',\n",
       " 'million',\n",
       " 'modern',\n",
       " 'name',\n",
       " 'nations',\n",
       " 'native',\n",
       " 'new',\n",
       " 'non',\n",
       " 'north',\n",
       " 'northern',\n",
       " 'officially',\n",
       " 'often',\n",
       " 'old',\n",
       " 'one',\n",
       " 'order',\n",
       " 'pacific',\n",
       " 'part',\n",
       " 'people',\n",
       " 'plant',\n",
       " 'political',\n",
       " 'population',\n",
       " 'populous',\n",
       " 'power',\n",
       " 'prey',\n",
       " 'red',\n",
       " 'region',\n",
       " 'regions',\n",
       " 'related',\n",
       " 'republic',\n",
       " 'roman',\n",
       " 'russia',\n",
       " 'russian',\n",
       " 'sea',\n",
       " 'second',\n",
       " 'seeds',\n",
       " 'several',\n",
       " 'since',\n",
       " 'size',\n",
       " 'small',\n",
       " 'sometimes',\n",
       " 'south',\n",
       " 'southeast',\n",
       " 'southern',\n",
       " 'soviet',\n",
       " 'spanish',\n",
       " 'species',\n",
       " 'sq',\n",
       " 'square',\n",
       " 'state',\n",
       " 'states',\n",
       " 'term',\n",
       " 'territory',\n",
       " 'th',\n",
       " 'third',\n",
       " 'though',\n",
       " 'three',\n",
       " 'throughout',\n",
       " 'trade',\n",
       " 'two',\n",
       " 'typically',\n",
       " 'union',\n",
       " 'united',\n",
       " 'use',\n",
       " 'used',\n",
       " 'usually',\n",
       " 'various',\n",
       " 'war',\n",
       " 'water',\n",
       " 'well',\n",
       " 'west',\n",
       " 'western',\n",
       " 'whales',\n",
       " 'white',\n",
       " 'widely',\n",
       " 'wild',\n",
       " 'within',\n",
       " 'word',\n",
       " 'world',\n",
       " 'years',\n",
       " 'yellow']"
      ]
     },
     "execution_count": 6,
     "metadata": {},
     "output_type": "execute_result"
    }
   ],
   "source": [
    "vectorizer.get_feature_names()"
   ]
  },
  {
   "cell_type": "code",
   "execution_count": 7,
   "metadata": {},
   "outputs": [],
   "source": [
    "from sklearn.preprocessing import LabelEncoder\n",
    "\n",
    "le = LabelEncoder()"
   ]
  },
  {
   "cell_type": "code",
   "execution_count": 8,
   "metadata": {},
   "outputs": [],
   "source": [
    "labels = le.fit_transform(df['Category'])"
   ]
  },
  {
   "cell_type": "code",
   "execution_count": 9,
   "metadata": {},
   "outputs": [
    {
     "data": {
      "text/plain": [
       "MultinomialNB(alpha=0.1)"
      ]
     },
     "execution_count": 9,
     "metadata": {},
     "output_type": "execute_result"
    }
   ],
   "source": [
    "from sklearn.naive_bayes import MultinomialNB\n",
    "from sklearn.metrics import accuracy_score\n",
    "\n",
    "clfrNB = MultinomialNB(alpha = 0.1)\n",
    "clfrNB.fit(vectors, labels)"
   ]
  },
  {
   "cell_type": "code",
   "execution_count": 10,
   "metadata": {},
   "outputs": [],
   "source": [
    "pred = clfrNB.predict(vectors)"
   ]
  },
  {
   "cell_type": "code",
   "execution_count": 11,
   "metadata": {},
   "outputs": [
    {
     "data": {
      "text/plain": [
       "array([0, 0, 0, 0, 0, 0, 0, 0, 0, 0, 0, 0, 0, 0, 0, 0, 0, 0, 0, 0, 0, 0,\n",
       "       0, 0, 0, 0, 0, 0, 0, 0, 0, 0, 0, 0, 0, 0, 0, 0, 0, 0, 0, 0, 0, 0,\n",
       "       0, 0, 0, 0, 0, 0, 0, 0, 0, 0, 0, 0, 0, 1, 1, 1, 1, 1, 1, 1, 1, 1,\n",
       "       1, 1, 1, 1, 1, 1, 2, 2, 2, 2, 2, 2, 2, 2, 2, 2, 2, 2, 2, 2, 2, 2,\n",
       "       2, 2, 2, 2, 2, 2, 2, 2, 2, 2, 2, 2, 2, 2, 2, 2, 2, 2, 2, 2, 2, 2,\n",
       "       2, 2, 2, 2, 2, 2, 2, 2, 2, 2, 2, 2, 3, 3, 3, 3, 3, 3, 3, 3, 3, 3,\n",
       "       3, 3, 3, 3, 3, 3, 3, 3, 3, 3, 3, 3, 3, 3, 3, 3, 3, 3, 3, 3, 3])"
      ]
     },
     "execution_count": 11,
     "metadata": {},
     "output_type": "execute_result"
    }
   ],
   "source": [
    "labels"
   ]
  },
  {
   "cell_type": "code",
   "execution_count": 12,
   "metadata": {},
   "outputs": [
    {
     "data": {
      "text/plain": [
       "1.0"
      ]
     },
     "execution_count": 12,
     "metadata": {},
     "output_type": "execute_result"
    }
   ],
   "source": [
    "accuracy_score(labels,pred)"
   ]
  },
  {
   "cell_type": "code",
   "execution_count": null,
   "metadata": {},
   "outputs": [],
   "source": []
  }
 ],
 "metadata": {
  "kernelspec": {
   "display_name": "Python 3",
   "language": "python",
   "name": "python3"
  },
  "language_info": {
   "codemirror_mode": {
    "name": "ipython",
    "version": 3
   },
   "file_extension": ".py",
   "mimetype": "text/x-python",
   "name": "python",
   "nbconvert_exporter": "python",
   "pygments_lexer": "ipython3",
   "version": "3.8.5"
  }
 },
 "nbformat": 4,
 "nbformat_minor": 4
}
